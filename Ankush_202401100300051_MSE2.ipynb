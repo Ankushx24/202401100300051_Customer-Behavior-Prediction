{
  "nbformat": 4,
  "nbformat_minor": 0,
  "metadata": {
    "colab": {
      "provenance": []
    },
    "kernelspec": {
      "name": "python3",
      "display_name": "Python 3"
    },
    "language_info": {
      "name": "python"
    }
  },
  "cells": [
    {
      "cell_type": "code",
      "source": [
        "import pandas as pd\n",
        "df = pd.read_csv('/content/customer_behavior (1).csv')\n",
        "print(df.head())\n"
      ],
      "metadata": {
        "colab": {
          "base_uri": "https://localhost:8080/"
        },
        "id": "HMNHHnGD0teG",
        "outputId": "7e32cdea-3987-4604-cd3f-7bcd9089e84e"
      },
      "execution_count": 14,
      "outputs": [
        {
          "output_type": "stream",
          "name": "stdout",
          "text": [
            "   total_spent  avg_purchase_value  visits_per_month      buyer_type\n",
            "0  4007.982067          235.560678                 3  bargain_hunter\n",
            "1  3117.968387          313.883912                13  bargain_hunter\n",
            "2  4232.062646          122.280804                15  bargain_hunter\n",
            "3   577.820196          470.747406                20   premium_buyer\n",
            "4  2839.005107           23.207422                19  bargain_hunter\n"
          ]
        }
      ]
    },
    {
      "cell_type": "code",
      "source": [
        "import pandas as pd\n",
        "from sklearn.model_selection import train_test_split\n",
        "from sklearn.preprocessing import LabelEncoder, StandardScaler\n",
        "from sklearn.ensemble import RandomForestClassifier\n",
        "from sklearn.pipeline import Pipeline\n",
        "from sklearn.metrics import classification_report, accuracy_score\n",
        "\n",
        "df = pd.read_csv(\"/content/customer_behavior (1).csv\")\n",
        "le = LabelEncoder()\n",
        "df['buyer_type_encoded'] = le.fit_transform(df['buyer_type'])\n",
        "\n",
        "X = df[['total_spent', 'avg_purchase_value', 'visits_per_month']]\n",
        "y = df['buyer_type_encoded']\n",
        "X_train, X_test, y_train, y_test = train_test_split(X, y, test_size=0.2, random_state=42)\n",
        "pipeline = Pipeline([\n",
        "    ('scaler', StandardScaler()),\n",
        "    ('classifier', RandomForestClassifier(random_state=42, n_estimators=100))\n",
        "])\n",
        "\n",
        "pipeline.fit(X_train, y_train)\n",
        "\n",
        "y_pred = pipeline.predict(X_test)\n",
        "accuracy = accuracy_score(y_test, y_pred)\n",
        "report = classification_report(y_test, y_pred, target_names=le.classes_)\n",
        "\n",
        "print(\"Accuracy:\", accuracy)\n",
        "print(\"\\nClassification Report:\\n\", report)\n"
      ],
      "metadata": {
        "colab": {
          "base_uri": "https://localhost:8080/"
        },
        "id": "_TRNgV513c11",
        "outputId": "2521895d-6f3f-4d9e-be63-a64bbd74caec"
      },
      "execution_count": 20,
      "outputs": [
        {
          "output_type": "stream",
          "name": "stdout",
          "text": [
            "Accuracy: 0.6\n",
            "\n",
            "Classification Report:\n",
            "                 precision    recall  f1-score   support\n",
            "\n",
            "bargain_hunter       0.61      0.92      0.73        12\n",
            " premium_buyer       0.50      0.12      0.20         8\n",
            "\n",
            "      accuracy                           0.60        20\n",
            "     macro avg       0.56      0.52      0.47        20\n",
            "  weighted avg       0.57      0.60      0.52        20\n",
            "\n"
          ]
        }
      ]
    }
  ]
}